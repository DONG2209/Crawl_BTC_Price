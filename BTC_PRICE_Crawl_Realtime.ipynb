{
 "cells": [
  {
   "cell_type": "code",
   "execution_count": 7,
   "metadata": {
    "id": "nkDwMhq3eIN9"
   },
   "outputs": [],
   "source": [
    "import requests\n",
    "from bs4 import BeautifulSoup\n",
    "import os\n",
    "import pandas as pd \n",
    "import re\n",
    "import datetime\n",
    "import time\n",
    "import json\n",
    "import matplotlib.pyplot as plt \n",
    "import seaborn as sns\n",
    "from matplotlib.animation import FuncAnimation"
   ]
  },
  {
   "cell_type": "code",
   "execution_count": 8,
   "metadata": {
    "id": "GjyzoUP9FjeG"
   },
   "outputs": [],
   "source": [
    "def crawl_btc_price_api():\n",
    "  res = requests.get('https://www.binance.com/en/trade/BTC_BUSD?_from=markets&theme=dark&type=spot')\n",
    "  btc_price = float(re.findall(r'\\d+.\\d+ | BTCBUSD', res.text)[0].split(\" \")[0])\n",
    "  now = datetime.datetime.now()\n",
    "  dt_string = now.strftime(\"%Y-%m-%d %H:%M:%S\")\n",
    "  btc_info = {'Symbol':'BTC','Price':btc_price,'Updated_At':dt_string}\n",
    "  res.close()\n",
    "  return btc_info"
   ]
  },
  {
   "cell_type": "code",
   "execution_count": 9,
   "metadata": {},
   "outputs": [
    {
     "name": "stdout",
     "output_type": "stream",
     "text": [
      "[{'Symbol': 'BTC', 'Price': 29168.0, 'Updated_At': '2023-08-04 14:40:49'}]\n",
      "[{'Symbol': 'BTC', 'Price': 29144.01, 'Updated_At': '2023-08-04 14:42:50'}]\n"
     ]
    },
    {
     "ename": "KeyboardInterrupt",
     "evalue": "",
     "output_type": "error",
     "traceback": [
      "\u001b[1;31m---------------------------------------------------------------------------\u001b[0m",
      "\u001b[1;31mKeyboardInterrupt\u001b[0m                         Traceback (most recent call last)",
      "Cell \u001b[1;32mIn[9], line 16\u001b[0m\n\u001b[0;32m     14\u001b[0m response\u001b[39m.\u001b[39mclose()\n\u001b[0;32m     15\u001b[0m \u001b[39mprint\u001b[39m(get_btc_price)\n\u001b[1;32m---> 16\u001b[0m time\u001b[39m.\u001b[39;49msleep(\u001b[39m120\u001b[39;49m)\n",
      "\u001b[1;31mKeyboardInterrupt\u001b[0m: "
     ]
    }
   ],
   "source": [
    "pbi_url='https://api.powerbi.com/beta/0aa16d8a-a396-4e21-aa14-2a68a45786bc/datasets/29fc238f-37d7-48e8-803b-a82c45f449e0/rows?experience=power-bi&key=bn4MFo2e4lQHPtP5Pw2PH0NzlJ3R5f%2BZKbc2bhbLP4CHSdzNOudzLgX1eMrjrn2m%2FkcsbaaCwuZPQ2229mikyQ%3D%3D'\n",
    "headers ={\n",
    "    \"Content-Type\": \"application/json\"\n",
    "}\n",
    "while(True):\n",
    "    get_btc_price = crawl_btc_price_api()\n",
    "    get_btc_price=[get_btc_price]\n",
    "    response = requests.request(\n",
    "        method=\"Post\",\n",
    "        url=pbi_url,\n",
    "        headers=headers,\n",
    "        data=json.dumps(get_btc_price)\n",
    "    )\n",
    "    response.close()\n",
    "    print(get_btc_price)\n",
    "    time.sleep(120)"
   ]
  },
  {
   "cell_type": "code",
   "execution_count": null,
   "metadata": {},
   "outputs": [
    {
     "name": "stdout",
     "output_type": "stream",
     "text": [
      "{'Symbol': 'BTC', 'Price': 29192.01, 'Updated_At': '04/08/2023 13:45:10'}\n"
     ]
    }
   ],
   "source": [
    "# a = crawl_btc_price_api()\n",
    "# print(a)\n",
    "# btc_data = pd.DataFrame(a,index=[0])"
   ]
  },
  {
   "cell_type": "code",
   "execution_count": null,
   "metadata": {
    "id": "sPSqtztpiJSc"
   },
   "outputs": [],
   "source": [
    "# while(True):\n",
    "#   a = crawl_btc_price_api()\n",
    "#   print(a)\n",
    "#   btc_data1 = pd.DataFrame(a,index=[0])\n",
    "#   btc_data = pd.concat([btc_data,btc_data1])\n",
    "#   btc_data.to_excel('btc_price.xlsx',index=False)\n",
    "#   time.sleep(60)"
   ]
  }
 ],
 "metadata": {
  "colab": {
   "collapsed_sections": [],
   "provenance": []
  },
  "kernelspec": {
   "display_name": "Python 3",
   "language": "python",
   "name": "python3"
  },
  "language_info": {
   "codemirror_mode": {
    "name": "ipython",
    "version": 3
   },
   "file_extension": ".py",
   "mimetype": "text/x-python",
   "name": "python",
   "nbconvert_exporter": "python",
   "pygments_lexer": "ipython3",
   "version": "3.10.8"
  },
  "vscode": {
   "interpreter": {
    "hash": "a90aeebcf29d64a654773811cc170cb25061cb2498f10ac689db374c7bf325de"
   }
  }
 },
 "nbformat": 4,
 "nbformat_minor": 1
}
