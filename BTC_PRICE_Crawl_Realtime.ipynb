{
 "cells": [
  {
   "cell_type": "code",
   "execution_count": 3,
   "metadata": {
    "id": "nkDwMhq3eIN9"
   },
   "outputs": [],
   "source": [
    "import requests\n",
    "from bs4 import BeautifulSoup\n",
    "import os\n",
    "import pandas as pd \n",
    "import re\n",
    "import datetime\n",
    "import time\n",
    "import json\n",
    "import matplotlib.pyplot as plt \n",
    "import seaborn as sns\n",
    "from matplotlib.animation import FuncAnimation"
   ]
  },
  {
   "cell_type": "code",
   "execution_count": 4,
   "metadata": {
    "id": "GjyzoUP9FjeG"
   },
   "outputs": [],
   "source": [
    "def crawl_btc_price_api():\n",
    "  res = requests.get('https://www.binance.com/en/trade/BTC_BUSD?_from=markets&theme=dark&type=spot')\n",
    "  btc_price = float(re.findall(r'\\d+.\\d+ | BTCBUSD', res.text)[0].split(\" \")[0])\n",
    "  now = datetime.datetime.now()\n",
    "  dt_string = now.strftime(\"%d/%m/%Y %H:%M:%S\")\n",
    "  btc_info = {'Symbol':'BTC','Price':btc_price,'Updated_At':dt_string}\n",
    "  res.close()\n",
    "  return btc_info"
   ]
  },
  {
   "cell_type": "code",
   "execution_count": 5,
   "metadata": {},
   "outputs": [
    {
     "name": "stdout",
     "output_type": "stream",
     "text": [
      "{'Symbol': 'BTC', 'Price': 29192.01, 'Updated_At': '04/08/2023 13:45:10'}\n"
     ]
    }
   ],
   "source": [
    "a = crawl_btc_price_api()\n",
    "print(a)\n",
    "btc_data = pd.DataFrame(a,index=[0])"
   ]
  },
  {
   "cell_type": "code",
   "execution_count": 6,
   "metadata": {
    "id": "sPSqtztpiJSc"
   },
   "outputs": [],
   "source": [
    "while(True):\n",
    "  a = crawl_btc_price_api()\n",
    "  print(a)\n",
    "  btc_data1 = pd.DataFrame(a,index=[0])\n",
    "  btc_data = pd.concat([btc_data,btc_data1])\n",
    "  btc_data.to_excel('btc_price.xlsx',index=False)\n",
    "  time.sleep(60)"
   ]
  }
 ],
 "metadata": {
  "colab": {
   "collapsed_sections": [],
   "provenance": []
  },
  "kernelspec": {
   "display_name": "Python 3",
   "language": "python",
   "name": "python3"
  },
  "language_info": {
   "codemirror_mode": {
    "name": "ipython",
    "version": 3
   },
   "file_extension": ".py",
   "mimetype": "text/x-python",
   "name": "python",
   "nbconvert_exporter": "python",
   "pygments_lexer": "ipython3",
   "version": "3.10.8"
  },
  "vscode": {
   "interpreter": {
    "hash": "a90aeebcf29d64a654773811cc170cb25061cb2498f10ac689db374c7bf325de"
   }
  }
 },
 "nbformat": 4,
 "nbformat_minor": 1
}
